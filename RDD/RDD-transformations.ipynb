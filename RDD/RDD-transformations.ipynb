{
 "cells": [
  {
   "cell_type": "markdown",
   "id": "6d930395-560c-4f41-a648-6cbb4f9de937",
   "metadata": {},
   "source": [
    "#### RDD Transformations"
   ]
  },
  {
   "cell_type": "code",
   "execution_count": 1,
   "id": "e374f222-e127-4115-b4ae-b48513f6d7f6",
   "metadata": {},
   "outputs": [
    {
     "name": "stderr",
     "output_type": "stream",
     "text": [
      "WARNING: Using incubator modules: jdk.incubator.vector\n",
      "Using Spark's default log4j profile: org/apache/spark/log4j2-defaults.properties\n",
      "25/07/16 18:06:27 WARN Utils: Your hostname, spark-master, resolves to a loopback address: 127.0.1.1; using 10.168.136.115 instead (on interface ens3)\n",
      "25/07/16 18:06:27 WARN Utils: Set SPARK_LOCAL_IP if you need to bind to another address\n",
      "Using Spark's default log4j profile: org/apache/spark/log4j2-defaults.properties\n",
      "Setting default log level to \"WARN\".\n",
      "To adjust logging level use sc.setLogLevel(newLevel). For SparkR, use setLogLevel(newLevel).\n",
      "25/07/16 18:06:27 WARN NativeCodeLoader: Unable to load native-hadoop library for your platform... using builtin-java classes where applicable\n"
     ]
    }
   ],
   "source": [
    "from pyspark.sql import SparkSession\n",
    "\n",
    "spark = SparkSession.builder \\\n",
    "    .appName(\"My Notebook Spark App\") \\\n",
    "    .master(\"local[*]\") \\\n",
    "    .getOrCreate()"
   ]
  },
  {
   "cell_type": "markdown",
   "id": "5fb4c7dd-dde9-4b36-bda7-8e84e190b061",
   "metadata": {},
   "source": [
    "#### 1.Map - returns new RDD by passing each element of the source through a func"
   ]
  },
  {
   "cell_type": "code",
   "execution_count": 2,
   "id": "338036ab-292d-4650-bb95-343f773e7060",
   "metadata": {},
   "outputs": [],
   "source": [
    "sc = spark.sparkContext\n",
    "rdd = sc.parallelize([\"a\",\"b\",\"c\"])"
   ]
  },
  {
   "cell_type": "code",
   "execution_count": 3,
   "id": "6e3dab89-2a74-479f-a9a8-0e94cd9b0e61",
   "metadata": {},
   "outputs": [],
   "source": [
    "def test_func1(x):\n",
    "    return x + x\n",
    "rdd2 = rdd.map(test_func1)"
   ]
  },
  {
   "cell_type": "code",
   "execution_count": 4,
   "id": "37186ed8-4dcc-450e-bf63-21e15b04860e",
   "metadata": {},
   "outputs": [
    {
     "name": "stderr",
     "output_type": "stream",
     "text": [
      "                                                                                "
     ]
    },
    {
     "data": {
      "text/plain": [
       "['aa', 'bb', 'cc']"
      ]
     },
     "execution_count": 4,
     "metadata": {},
     "output_type": "execute_result"
    }
   ],
   "source": [
    "rdd2.collect()"
   ]
  },
  {
   "cell_type": "code",
   "execution_count": 6,
   "id": "5429271c-124c-48b0-af93-89e565ff0f82",
   "metadata": {},
   "outputs": [
    {
     "data": {
      "text/plain": [
       "[1, 4, 9, 16, 25]"
      ]
     },
     "execution_count": 6,
     "metadata": {},
     "output_type": "execute_result"
    }
   ],
   "source": [
    "rdd = sc.parallelize([1,2,3,4,5])\n",
    "rdd2 = rdd.map(lambda x: x*x)\n",
    "rdd2.collect()"
   ]
  },
  {
   "cell_type": "markdown",
   "id": "ff119ff5-00d4-4fb7-ba47-237af70d1360",
   "metadata": {},
   "source": [
    "#### 2. Filter - returns new RDD with elements for which function returns true"
   ]
  },
  {
   "cell_type": "code",
   "execution_count": 8,
   "id": "6709a861-5664-4be4-963c-f0d149aacc02",
   "metadata": {},
   "outputs": [
    {
     "data": {
      "text/plain": [
       "[3, 4, 5]"
      ]
     },
     "execution_count": 8,
     "metadata": {},
     "output_type": "execute_result"
    }
   ],
   "source": [
    "def greater_than_2(x):\n",
    "    return x > 2\n",
    "rdd3 = rdd.filter(greater_than_2)\n",
    "rdd3.collect()"
   ]
  },
  {
   "cell_type": "markdown",
   "id": "a3246ec7-4f5a-4779-9b32-a0b768e403dc",
   "metadata": {},
   "source": [
    "#### 3. flatMap - Map + Flatten\n",
    "\n",
    "Apply a function to all elements of RDD and then flatten"
   ]
  },
  {
   "cell_type": "code",
   "execution_count": 9,
   "id": "d7e7b2b4-686e-4010-902d-4bdc77014266",
   "metadata": {},
   "outputs": [
    {
     "data": {
      "text/plain": [
       "['hello', 'world', 'spark', 'example', 'for', 'flatMap']"
      ]
     },
     "execution_count": 9,
     "metadata": {},
     "output_type": "execute_result"
    }
   ],
   "source": [
    "rdd = sc.parallelize([\"hello world\", \"spark example for flatMap\"])\n",
    "rdd2 = rdd.flatMap(lambda line: line.split())\n",
    "rdd2.collect()"
   ]
  },
  {
   "cell_type": "code",
   "execution_count": null,
   "id": "a23c9226-db76-4d2d-a7da-0a21c76a314a",
   "metadata": {},
   "outputs": [],
   "source": [
    "#### 4.MapPartition - Apply a function to each partition\n",
    "\n",
    "**End result is same as Map**, but following advantages\n",
    "\n",
    "1. Only one function call per partition\n",
    "2. If DB conn required, only one connection can be opened per partition"
   ]
  },
  {
   "cell_type": "code",
   "execution_count": 10,
   "id": "507affff-e46c-4156-97b5-13b153cc6129",
   "metadata": {},
   "outputs": [],
   "source": [
    "rdd = sc.parallelize(range(10),2)"
   ]
  },
  {
   "cell_type": "code",
   "execution_count": 11,
   "id": "b5788589-369f-41aa-b50b-047bbbb3c09d",
   "metadata": {},
   "outputs": [
    {
     "data": {
      "text/plain": [
       "2"
      ]
     },
     "execution_count": 11,
     "metadata": {},
     "output_type": "execute_result"
    }
   ],
   "source": [
    "rdd.getNumPartitions()"
   ]
  },
  {
   "cell_type": "code",
   "execution_count": 14,
   "id": "5179eccc-94ab-480d-a6a3-67655bbb2c0b",
   "metadata": {},
   "outputs": [],
   "source": [
    "def part_multiplier(partition):\n",
    "    return [x*2 for x in partition]"
   ]
  },
  {
   "cell_type": "code",
   "execution_count": 15,
   "id": "8d6b42fb-7e56-4400-92a4-3b187d5168b5",
   "metadata": {},
   "outputs": [
    {
     "data": {
      "text/plain": [
       "[0, 2, 4, 6, 8, 10, 12, 14, 16, 18]"
      ]
     },
     "execution_count": 15,
     "metadata": {},
     "output_type": "execute_result"
    }
   ],
   "source": [
    "rdd2 = rdd.mapPartitions(part_multiplier)\n",
    "rdd2.collect()"
   ]
  },
  {
   "cell_type": "markdown",
   "id": "e60b0673-ed31-47c2-af2b-fdb63cac170b",
   "metadata": {},
   "source": [
    "#### 5. mapPartitionsWithIndex\n",
    "Function receives index of the partition in addition to the partition\n",
    "1. Helps in debugging\n",
    "2. If we need to apply logic based on partition numbers"
   ]
  },
  {
   "cell_type": "code",
   "execution_count": 19,
   "id": "a299fb96-35f2-4351-a3fb-7d5dc501df09",
   "metadata": {},
   "outputs": [
    {
     "data": {
      "text/plain": [
       "['0a', '0b', '1c', '1d']"
      ]
     },
     "execution_count": 19,
     "metadata": {},
     "output_type": "execute_result"
    }
   ],
   "source": [
    "def give_partition_index(index,partition):\n",
    "    return [str(index)+str(elem) for elem in partition]\n",
    "\n",
    "rdd = sc.parallelize([\"a\",\"b\",\"c\",\"d\"],2)\n",
    "rdd2 = rdd.mapPartitionsWithIndex(give_partition_index)\n",
    "rdd2.collect()"
   ]
  },
  {
   "cell_type": "markdown",
   "id": "535b68ba-3e1d-4609-8ed9-20358bacac0e",
   "metadata": {},
   "source": [
    "#### 6.Sample\n",
    "Returns sample of data\n",
    "\n",
    "Used in,\n",
    "\n",
    "1. Machine learning\n",
    "2. Debugging"
   ]
  },
  {
   "cell_type": "code",
   "execution_count": 3,
   "id": "2879faf0-db81-4e6c-ba95-81282816febc",
   "metadata": {},
   "outputs": [
    {
     "name": "stderr",
     "output_type": "stream",
     "text": [
      "                                                                                "
     ]
    },
    {
     "data": {
      "text/plain": [
       "[7, 20, 22, 30, 37, 41, 43, 56, 66, 92]"
      ]
     },
     "execution_count": 3,
     "metadata": {},
     "output_type": "execute_result"
    }
   ],
   "source": [
    "rdd = sc.parallelize(range(100),2)\n",
    "rdd2 = rdd.sample(False,0.1)\n",
    "rdd2.collect()"
   ]
  },
  {
   "cell_type": "markdown",
   "id": "53294078-fa62-416f-96f9-37c8d00f8139",
   "metadata": {},
   "source": [
    "#### 7. Union\n",
    "Combines two datasets\n",
    "\n",
    "Example scenarios,\n",
    "\n",
    "1. Combining daily logs for a week"
   ]
  },
  {
   "cell_type": "code",
   "execution_count": 9,
   "id": "e6828dc6-4fbf-499e-a15f-ec6751ce9522",
   "metadata": {},
   "outputs": [
    {
     "data": {
      "text/plain": [
       "[0, 1, 2, 3, 4, 5, 6, 7, 8, 9, 11, 12, 13, 14, 15, 16, 17, 18, 19]"
      ]
     },
     "execution_count": 9,
     "metadata": {},
     "output_type": "execute_result"
    }
   ],
   "source": [
    "rdd1 = sc.parallelize(range(10),2)\n",
    "rdd2 = sc.parallelize(range(11,20),2)\n",
    "rdd1.union(rdd2).collect()"
   ]
  },
  {
   "cell_type": "markdown",
   "id": "eb07bd3c-41d7-49ba-a883-350d617d11e1",
   "metadata": {},
   "source": [
    "#### 8. intersection\n",
    "\n",
    "Returns common elements"
   ]
  },
  {
   "cell_type": "code",
   "execution_count": 10,
   "id": "8998022f-1e91-4fb4-8567-5fa3aa071f60",
   "metadata": {},
   "outputs": [
    {
     "data": {
      "text/plain": [
       "[8, 5, 9, 6, 7]"
      ]
     },
     "execution_count": 10,
     "metadata": {},
     "output_type": "execute_result"
    }
   ],
   "source": [
    "rdd1 = sc.parallelize(range(10),2)\n",
    "rdd2 = sc.parallelize(range(5,20),2)\n",
    "rdd1.intersection(rdd2).collect()"
   ]
  },
  {
   "cell_type": "markdown",
   "id": "58d5b83f-d853-433c-b4d7-170e948ef017",
   "metadata": {},
   "source": [
    "#### 9. Distinct"
   ]
  },
  {
   "cell_type": "code",
   "execution_count": 14,
   "id": "8547dee5-a3d2-4bc3-b499-ff14a99f7c40",
   "metadata": {},
   "outputs": [],
   "source": [
    "rdd1 = sc.parallelize(['a','b','a','c','b',1,5])"
   ]
  },
  {
   "cell_type": "code",
   "execution_count": 15,
   "id": "3679e76c-e344-4dc3-9e35-44dd73d7c11b",
   "metadata": {},
   "outputs": [
    {
     "data": {
      "text/plain": [
       "['b', 'a', 'c', 1, 5]"
      ]
     },
     "execution_count": 15,
     "metadata": {},
     "output_type": "execute_result"
    }
   ],
   "source": [
    "rdd1.distinct().collect()"
   ]
  },
  {
   "cell_type": "markdown",
   "id": "0b0c4e4e-997b-4c0b-9b6d-7682694b0dc7",
   "metadata": {},
   "source": [
    "#### 10. groupByKey\n",
    "\n",
    "1. Expensive transformation\n",
    "2. May require shuffling\n",
    "3. If aggregation to be performed reduceByKey is better"
   ]
  },
  {
   "cell_type": "code",
   "execution_count": 17,
   "id": "3175738e-dd95-49cc-a8c5-24a4283327a6",
   "metadata": {},
   "outputs": [],
   "source": [
    "rdd = sc.parallelize([(\"a\", 1), (\"b\", 1), (\"a\", 1)])\n",
    "rdd2 = rdd.groupByKey()"
   ]
  },
  {
   "cell_type": "code",
   "execution_count": 19,
   "id": "00931715-4b42-4446-9e95-c93c0a1f1e23",
   "metadata": {},
   "outputs": [
    {
     "data": {
      "text/plain": [
       "[('b', [1]), ('a', [1, 1])]"
      ]
     },
     "execution_count": 19,
     "metadata": {},
     "output_type": "execute_result"
    }
   ],
   "source": [
    "rdd2.mapValues(list).collect()"
   ]
  },
  {
   "cell_type": "markdown",
   "id": "3c0886c6-e273-4b42-bf24-e2ab45b460e4",
   "metadata": {},
   "source": [
    "#### 11. ReduceByKey"
   ]
  },
  {
   "cell_type": "code",
   "execution_count": 21,
   "id": "6ae8e11a-0469-47a1-8eb7-d75672568272",
   "metadata": {},
   "outputs": [],
   "source": [
    "def funtest(a,b):\n",
    "    return a+b"
   ]
  },
  {
   "cell_type": "code",
   "execution_count": 22,
   "id": "75d32f01-179f-49ab-95ee-b3747f004e1f",
   "metadata": {},
   "outputs": [],
   "source": [
    "rdd = sc.parallelize([(\"a\", 1), (\"b\", 1), (\"a\", 1)])\n",
    "rdd2 = rdd.reduceByKey(funtest)"
   ]
  },
  {
   "cell_type": "code",
   "execution_count": 23,
   "id": "c6667163-488d-432e-90de-728c4750861b",
   "metadata": {},
   "outputs": [
    {
     "data": {
      "text/plain": [
       "[('b', 1), ('a', 2)]"
      ]
     },
     "execution_count": 23,
     "metadata": {},
     "output_type": "execute_result"
    }
   ],
   "source": [
    "rdd2.collect()"
   ]
  },
  {
   "cell_type": "markdown",
   "id": "60c89b49-a226-4383-ba15-d81597328308",
   "metadata": {},
   "source": [
    "#### 12. AggregateByKey\n",
    "\n",
    "1. Provide options to apply a sequence function within a partition and different combine function across partitions\n",
    "2. "
   ]
  },
  {
   "cell_type": "code",
   "execution_count": null,
   "id": "02f36766-e9cc-4910-897a-93fd872a229d",
   "metadata": {},
   "outputs": [],
   "source": [
    "#Average"
   ]
  },
  {
   "cell_type": "code",
   "execution_count": 25,
   "id": "458f2a3f-c2c0-48aa-9912-2c5247a6d7ae",
   "metadata": {},
   "outputs": [],
   "source": [
    "rdd = sc.parallelize([(\"a\", 2), (\"b\", 3), (\"a\", 4),(\"b\", 1),(\"b\", 5)])"
   ]
  },
  {
   "cell_type": "code",
   "execution_count": 37,
   "id": "6c386ecf-0d0e-4988-8f9c-6ab15acfec4f",
   "metadata": {},
   "outputs": [],
   "source": [
    "def seq_fun(x,y):\n",
    "    x[0] = x[0] + y\n",
    "    x[1] = x[1] + 1\n",
    "    return x\n",
    "\n",
    "def comb_fun(x,y):\n",
    "    x[0] = x[0] + y[0]\n",
    "    x[1] = x[1] + y[1]\n",
    "    return x"
   ]
  },
  {
   "cell_type": "code",
   "execution_count": 38,
   "id": "a0608137-7e11-478f-9c82-039a2345d84a",
   "metadata": {},
   "outputs": [],
   "source": [
    "rdd2 = rdd.aggregateByKey([0,0],seq_fun,comb_fun)"
   ]
  },
  {
   "cell_type": "code",
   "execution_count": 39,
   "id": "9f3ab6ef-6f9e-49fe-ac17-7bc9740950aa",
   "metadata": {},
   "outputs": [
    {
     "data": {
      "text/plain": [
       "[('b', [9, 3]), ('a', [6, 2])]"
      ]
     },
     "execution_count": 39,
     "metadata": {},
     "output_type": "execute_result"
    }
   ],
   "source": [
    "rdd2.collect()"
   ]
  },
  {
   "cell_type": "code",
   "execution_count": 42,
   "id": "c4f875f9-58ce-40f0-aec3-046e24d3f764",
   "metadata": {},
   "outputs": [],
   "source": [
    "rdd3 = rdd2.map(lambda x: (x[0],x[1][0]/x[1][1]))"
   ]
  },
  {
   "cell_type": "code",
   "execution_count": 43,
   "id": "4d426682-d238-4ee8-ac16-c09d1fe5c7bb",
   "metadata": {},
   "outputs": [
    {
     "data": {
      "text/plain": [
       "[('b', 3.0), ('a', 3.0)]"
      ]
     },
     "execution_count": 43,
     "metadata": {},
     "output_type": "execute_result"
    }
   ],
   "source": [
    "rdd3.collect()"
   ]
  },
  {
   "cell_type": "code",
   "execution_count": null,
   "id": "4253986e-ed8a-4a4f-8a9b-7fd97431507c",
   "metadata": {},
   "outputs": [],
   "source": [
    "# Top 2 scores"
   ]
  },
  {
   "cell_type": "code",
   "execution_count": 56,
   "id": "3e9d00ed-ef92-428d-8693-0e4d45923d0f",
   "metadata": {},
   "outputs": [],
   "source": [
    "scores = sc.parallelize([(\"u1\", 95), (\"u1\", 99), (\"u1\", 87), (\"u2\", 88), (\"u2\", 91),(\"u2\", 95),\n",
    "                        (\"u1\", 195), (\"u1\", 9), (\"u1\", 287), (\"u2\", 8), (\"u2\", 191),(\"u2\", 95)\n",
    "                        ],2)"
   ]
  },
  {
   "cell_type": "code",
   "execution_count": 57,
   "id": "941a7013-7d94-4548-9397-f3bf483dd333",
   "metadata": {},
   "outputs": [],
   "source": [
    "def seq_fun(x,y):\n",
    "    if y > x[0]:\n",
    "        x[1] = x[0]\n",
    "        x[0] = y\n",
    "    elif y > x[1]:\n",
    "        x[1] =y\n",
    "    return x"
   ]
  },
  {
   "cell_type": "markdown",
   "id": "bdb5bef3-ed3a-45c8-8c0b-c00df311bb73",
   "metadata": {},
   "source": [
    "def comb_fun(x,y):\n",
    "    if x[1] > y[0]:\n",
    "        return x\n",
    "    else:\n",
    "        if x[0] > y[0]:\n",
    "            x[1] = y[0]\n",
    "        else:\n",
    "            x[1] = x[0]\n",
    "            x[0] = y[0]\n",
    "    if x[1] < y[1]:\n",
    "        x[1] = y[1]\n",
    "    return x"
   ]
  },
  {
   "cell_type": "code",
   "execution_count": 59,
   "id": "eaf585eb-fc9a-44ec-9374-6e997067a266",
   "metadata": {},
   "outputs": [],
   "source": [
    "scores_2 = scores.aggregateByKey([0,0],seq_fun,comb_fun)"
   ]
  },
  {
   "cell_type": "code",
   "execution_count": 60,
   "id": "f5a6b2b4-7d77-4003-a5c1-740e87f741c3",
   "metadata": {},
   "outputs": [
    {
     "data": {
      "text/plain": [
       "[('u2', [191, 95]), ('u1', [287, 195])]"
      ]
     },
     "execution_count": 60,
     "metadata": {},
     "output_type": "execute_result"
    }
   ],
   "source": [
    "scores_2.collect()"
   ]
  },
  {
   "cell_type": "markdown",
   "id": "696718ab-6bff-4b1f-bd09-76b0db780083",
   "metadata": {},
   "source": [
    "#### SortbyKey"
   ]
  },
  {
   "cell_type": "code",
   "execution_count": 61,
   "id": "752cd6f7-9bae-419a-ab03-d674dd57a4b4",
   "metadata": {},
   "outputs": [],
   "source": [
    "tmp = [('a', 1), ('b', 2), ('1', 3), ('d', 4), ('2', 5)]"
   ]
  },
  {
   "cell_type": "code",
   "execution_count": 63,
   "id": "80aa8460-f7b1-4ec0-84cb-1c19f864f4d7",
   "metadata": {},
   "outputs": [
    {
     "data": {
      "text/plain": [
       "[('1', 3), ('2', 5), ('a', 1), ('b', 2), ('d', 4)]"
      ]
     },
     "execution_count": 63,
     "metadata": {},
     "output_type": "execute_result"
    }
   ],
   "source": [
    "sc.parallelize(tmp).sortByKey().collect()"
   ]
  },
  {
   "cell_type": "markdown",
   "id": "64cbe926-a063-4d51-a435-cd465cc41d29",
   "metadata": {},
   "source": [
    "#### Join"
   ]
  },
  {
   "cell_type": "code",
   "execution_count": 66,
   "id": "cf85e222-dfcf-4e58-96b0-60f9a8dfeaaa",
   "metadata": {},
   "outputs": [],
   "source": [
    "rdd1 = sc.parallelize([(\"a\", 1), (\"b\", 4)])\n",
    "rdd2 = sc.parallelize([(\"a\", 2), (\"c\", 3)])"
   ]
  },
  {
   "cell_type": "code",
   "execution_count": 67,
   "id": "c43d910a-f2a4-4bc2-a32e-e1281518e1d1",
   "metadata": {},
   "outputs": [
    {
     "data": {
      "text/plain": [
       "[('a', (1, 2))]"
      ]
     },
     "execution_count": 67,
     "metadata": {},
     "output_type": "execute_result"
    }
   ],
   "source": [
    "rdd1.join(rdd2).collect()"
   ]
  },
  {
   "cell_type": "code",
   "execution_count": 68,
   "id": "36cf86dc-4999-4098-8e9b-38291566c973",
   "metadata": {},
   "outputs": [
    {
     "data": {
      "text/plain": [
       "[('b', (4, None)), ('a', (1, 2))]"
      ]
     },
     "execution_count": 68,
     "metadata": {},
     "output_type": "execute_result"
    }
   ],
   "source": [
    "rdd1.leftOuterJoin(rdd2).collect()"
   ]
  },
  {
   "cell_type": "markdown",
   "id": "b7f9f0fb-4378-47d3-bf28-0e4e9e5e5286",
   "metadata": {},
   "source": [
    "#### Cogroup"
   ]
  },
  {
   "cell_type": "code",
   "execution_count": 87,
   "id": "53f27f3b-ae95-4c24-8951-b79b73262086",
   "metadata": {},
   "outputs": [],
   "source": [
    "rdd1 = sc.parallelize([(\"a\", 1), (\"b\", 4),(\"a\", 7), (\"b\", 9)])\n",
    "rdd2 = sc.parallelize([(\"a\", 2),(\"a\", 3),(\"a\", 5),(\"b\", 2),(\"b\", 3)])"
   ]
  },
  {
   "cell_type": "code",
   "execution_count": 90,
   "id": "062130cb-e361-40d6-9045-3fa486da8dfd",
   "metadata": {},
   "outputs": [],
   "source": [
    "rdd3=rdd1.cogroup(rdd2)"
   ]
  },
  {
   "cell_type": "code",
   "execution_count": 95,
   "id": "baf758ad-1d82-4036-8e8b-0f12141ed202",
   "metadata": {},
   "outputs": [
    {
     "data": {
      "text/plain": [
       "[('b', ([4, 9], [2, 3])), ('a', ([1, 7], [2, 3, 5]))]"
      ]
     },
     "execution_count": 95,
     "metadata": {},
     "output_type": "execute_result"
    }
   ],
   "source": [
    "rdd3.mapValues(lambda x: (list(x[0]),list(x[1]))).collect()"
   ]
  },
  {
   "cell_type": "markdown",
   "id": "0b73908f-f3f3-436a-bab1-7b2751c62be7",
   "metadata": {},
   "source": [
    "#### Cartesian"
   ]
  },
  {
   "cell_type": "code",
   "execution_count": 96,
   "id": "24552235-e9e1-4c59-ada1-9f7b88034b9d",
   "metadata": {},
   "outputs": [],
   "source": [
    "rdd4=rdd1.cartesian(rdd2)"
   ]
  },
  {
   "cell_type": "code",
   "execution_count": 97,
   "id": "285a880d-5df5-4e10-b62d-374b82f2812f",
   "metadata": {},
   "outputs": [
    {
     "data": {
      "text/plain": [
       "[(('a', 1), ('a', 2)),\n",
       " (('a', 1), ('a', 3)),\n",
       " (('a', 1), ('a', 5)),\n",
       " (('a', 1), ('b', 2)),\n",
       " (('a', 1), ('b', 3)),\n",
       " (('b', 4), ('a', 2)),\n",
       " (('b', 4), ('a', 3)),\n",
       " (('b', 4), ('a', 5)),\n",
       " (('b', 4), ('b', 2)),\n",
       " (('b', 4), ('b', 3)),\n",
       " (('a', 7), ('a', 2)),\n",
       " (('b', 9), ('a', 2)),\n",
       " (('a', 7), ('a', 3)),\n",
       " (('a', 7), ('a', 5)),\n",
       " (('b', 9), ('a', 3)),\n",
       " (('b', 9), ('a', 5)),\n",
       " (('a', 7), ('b', 2)),\n",
       " (('a', 7), ('b', 3)),\n",
       " (('b', 9), ('b', 2)),\n",
       " (('b', 9), ('b', 3))]"
      ]
     },
     "execution_count": 97,
     "metadata": {},
     "output_type": "execute_result"
    }
   ],
   "source": [
    "rdd4.collect()"
   ]
  },
  {
   "cell_type": "markdown",
   "id": "581a0a61-5faa-4643-9ad2-6b49e0782f27",
   "metadata": {},
   "source": [
    "#### Coalesc\n",
    "\n",
    "1. Only to reduce the partition\n",
    "2. Work is done by workers not by driver\n",
    "3. Doesn't retain data distribution\n",
    "4. If data distribution is needed, use shuffle = True or repartition"
   ]
  },
  {
   "cell_type": "code",
   "execution_count": 98,
   "id": "7c61145c-c8dd-4154-a17e-239faf856055",
   "metadata": {},
   "outputs": [],
   "source": [
    "rdd = sc.parallelize(range(10),4)"
   ]
  },
  {
   "cell_type": "code",
   "execution_count": 99,
   "id": "56a174fa-5ee0-44ec-9838-32243690d56d",
   "metadata": {},
   "outputs": [
    {
     "data": {
      "text/plain": [
       "4"
      ]
     },
     "execution_count": 99,
     "metadata": {},
     "output_type": "execute_result"
    }
   ],
   "source": [
    "rdd.getNumPartitions()"
   ]
  },
  {
   "cell_type": "code",
   "execution_count": 100,
   "id": "dac52240-a37a-4b01-8306-08978a1b4cfb",
   "metadata": {},
   "outputs": [],
   "source": [
    "rdd2 = rdd.coalesce(1)"
   ]
  },
  {
   "cell_type": "code",
   "execution_count": 101,
   "id": "cc4ae179-4d81-47e2-ba27-871ad4872c25",
   "metadata": {},
   "outputs": [
    {
     "data": {
      "text/plain": [
       "1"
      ]
     },
     "execution_count": 101,
     "metadata": {},
     "output_type": "execute_result"
    }
   ],
   "source": [
    "rdd2.getNumPartitions()"
   ]
  },
  {
   "cell_type": "code",
   "execution_count": 102,
   "id": "e539c335-0ce2-4b58-8e14-9ec5e683d926",
   "metadata": {},
   "outputs": [],
   "source": [
    "spark.stop()"
   ]
  },
  {
   "cell_type": "code",
   "execution_count": null,
   "id": "4eb032ab-58ab-43cd-b971-b36f995b2ebf",
   "metadata": {},
   "outputs": [],
   "source": []
  }
 ],
 "metadata": {
  "kernelspec": {
   "display_name": "Python 3 (ipykernel)",
   "language": "python",
   "name": "python3"
  },
  "language_info": {
   "codemirror_mode": {
    "name": "ipython",
    "version": 3
   },
   "file_extension": ".py",
   "mimetype": "text/x-python",
   "name": "python",
   "nbconvert_exporter": "python",
   "pygments_lexer": "ipython3",
   "version": "3.12.3"
  }
 },
 "nbformat": 4,
 "nbformat_minor": 5
}
