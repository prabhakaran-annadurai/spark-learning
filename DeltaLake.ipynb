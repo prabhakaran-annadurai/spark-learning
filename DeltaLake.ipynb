{
 "cells": [
  {
   "cell_type": "markdown",
   "id": "7c0cb9e5-332b-4277-b2da-2ba5c29c4450",
   "metadata": {},
   "source": [
    "### Delta lake\n",
    "\n",
    "1. opensource project to provide Lakehouce architecture on top of data lake.\n",
    "2. Provides ACID\n",
    "3. Time travel\n",
    "4. Upserts & Deletes\n",
    "5. SCD"
   ]
  },
  {
   "cell_type": "code",
   "execution_count": 4,
   "id": "2954a8cd-bc45-4b88-b11a-312c8de33fd7",
   "metadata": {},
   "outputs": [],
   "source": [
    "#pip install --break-system-packages delta-spark==4.0.0"
   ]
  },
  {
   "cell_type": "code",
   "execution_count": 5,
   "id": "490d04a3-8ff7-4a42-bfbf-746fc92771f9",
   "metadata": {},
   "outputs": [
    {
     "name": "stderr",
     "output_type": "stream",
     "text": [
      "WARNING: Using incubator modules: jdk.incubator.vector\n",
      "Using Spark's default log4j profile: org/apache/spark/log4j2-defaults.properties\n",
      "25/07/18 11:04:22 WARN Utils: Your hostname, spark-master, resolves to a loopback address: 127.0.1.1; using 10.168.136.115 instead (on interface ens3)\n",
      "25/07/18 11:04:22 WARN Utils: Set SPARK_LOCAL_IP if you need to bind to another address\n",
      ":: loading settings :: url = jar:file:/home/ubuntu/.local/lib/python3.12/site-packages/pyspark/jars/ivy-2.5.3.jar!/org/apache/ivy/core/settings/ivysettings.xml\n",
      "Ivy Default Cache set to: /home/ubuntu/.ivy2.5.2/cache\n",
      "The jars for the packages stored in: /home/ubuntu/.ivy2.5.2/jars\n",
      "io.delta#delta-spark_2.13 added as a dependency\n",
      ":: resolving dependencies :: org.apache.spark#spark-submit-parent-3044f7f7-55bb-46bf-a42e-7bbcfea5ed9b;1.0\n",
      "\tconfs: [default]\n",
      "\tfound io.delta#delta-spark_2.13;4.0.0 in central\n",
      "\tfound io.delta#delta-storage;4.0.0 in central\n",
      "\tfound org.antlr#antlr4-runtime;4.13.1 in central\n",
      "downloading https://repo1.maven.org/maven2/io/delta/delta-spark_2.13/4.0.0/delta-spark_2.13-4.0.0.jar ...\n",
      "\t[SUCCESSFUL ] io.delta#delta-spark_2.13;4.0.0!delta-spark_2.13.jar (883ms)\n",
      "downloading https://repo1.maven.org/maven2/io/delta/delta-storage/4.0.0/delta-storage-4.0.0.jar ...\n",
      "\t[SUCCESSFUL ] io.delta#delta-storage;4.0.0!delta-storage.jar (50ms)\n",
      "downloading https://repo1.maven.org/maven2/org/antlr/antlr4-runtime/4.13.1/antlr4-runtime-4.13.1.jar ...\n",
      "\t[SUCCESSFUL ] org.antlr#antlr4-runtime;4.13.1!antlr4-runtime.jar (65ms)\n",
      ":: resolution report :: resolve 1841ms :: artifacts dl 1005ms\n",
      "\t:: modules in use:\n",
      "\tio.delta#delta-spark_2.13;4.0.0 from central in [default]\n",
      "\tio.delta#delta-storage;4.0.0 from central in [default]\n",
      "\torg.antlr#antlr4-runtime;4.13.1 from central in [default]\n",
      "\t---------------------------------------------------------------------\n",
      "\t|                  |            modules            ||   artifacts   |\n",
      "\t|       conf       | number| search|dwnlded|evicted|| number|dwnlded|\n",
      "\t---------------------------------------------------------------------\n",
      "\t|      default     |   3   |   3   |   3   |   0   ||   3   |   3   |\n",
      "\t---------------------------------------------------------------------\n",
      ":: retrieving :: org.apache.spark#spark-submit-parent-3044f7f7-55bb-46bf-a42e-7bbcfea5ed9b\n",
      "\tconfs: [default]\n",
      "\t3 artifacts copied, 0 already retrieved (7933kB/16ms)\n",
      "25/07/18 11:04:25 WARN NativeCodeLoader: Unable to load native-hadoop library for your platform... using builtin-java classes where applicable\n",
      "Using Spark's default log4j profile: org/apache/spark/log4j2-defaults.properties\n",
      "Setting default log level to \"WARN\".\n",
      "To adjust logging level use sc.setLogLevel(newLevel). For SparkR, use setLogLevel(newLevel).\n"
     ]
    }
   ],
   "source": [
    "import pyspark\n",
    "from delta import *\n",
    "\n",
    "builder = pyspark.sql.SparkSession.builder.appName(\"MyApp for Delta lake\") \\\n",
    "    .config(\"spark.sql.extensions\", \"io.delta.sql.DeltaSparkSessionExtension\") \\\n",
    "    .config(\"spark.sql.catalog.spark_catalog\", \"org.apache.spark.sql.delta.catalog.DeltaCatalog\")\\\n",
    "    .master(\"local[*]\")\n",
    "spark = configure_spark_with_delta_pip(builder).getOrCreate()\n"
   ]
  },
  {
   "cell_type": "code",
   "execution_count": 6,
   "id": "68da1c1d-8fb7-4119-928d-71f1f5b1dbd8",
   "metadata": {},
   "outputs": [],
   "source": [
    "df = spark.range(0,5)"
   ]
  },
  {
   "cell_type": "code",
   "execution_count": 7,
   "id": "93fdfb67-f976-4227-826f-2af8240a8779",
   "metadata": {},
   "outputs": [
    {
     "name": "stdout",
     "output_type": "stream",
     "text": [
      "+---+\n",
      "| id|\n",
      "+---+\n",
      "|  0|\n",
      "|  1|\n",
      "|  2|\n",
      "|  3|\n",
      "|  4|\n",
      "+---+\n",
      "\n"
     ]
    }
   ],
   "source": [
    "df.show()"
   ]
  },
  {
   "cell_type": "code",
   "execution_count": 8,
   "id": "e4373611-a295-4d0d-b10b-0bec72bc7e06",
   "metadata": {},
   "outputs": [
    {
     "name": "stderr",
     "output_type": "stream",
     "text": [
      "25/07/18 11:06:15 WARN SparkStringUtils: Truncated the string representation of a plan since it was too large. This behavior can be adjusted by setting 'spark.sql.debug.maxToStringFields'.\n",
      "                                                                                "
     ]
    }
   ],
   "source": [
    "df.write.format(\"delta\").save(\"/tmp/delta-table\")"
   ]
  },
  {
   "cell_type": "raw",
   "id": "70632f71-c28b-471d-8860-a36b5892bf2c",
   "metadata": {},
   "source": [
    "ubuntu@spark-master:~$ ls /tmp/delta-table/\n",
    "_delta_log                                                           part-00001-f674fdfd-c684-4cb2-948d-e73191b819ee-c000.snappy.parquet\n",
    "part-00000-f11a15c0-2565-4da8-af65-1bd2db2c0313-c000.snappy.parquet  part-00002-6b28bc7d-dbdb-4324-a19b-49e77e3c7f7a-c000.snappy.parquet\n",
    "ubuntu@spark-master:~$ \n"
   ]
  },
  {
   "cell_type": "code",
   "execution_count": 11,
   "id": "ab69f15b-b625-4e9d-b230-5eae492fe4a2",
   "metadata": {},
   "outputs": [
    {
     "name": "stderr",
     "output_type": "stream",
     "text": [
      "                                                                                "
     ]
    }
   ],
   "source": [
    "df.write.option(\"path\",\"/tmp/delta-table2\").format(\"delta\").saveAsTable(\"testing_delta\")"
   ]
  },
  {
   "cell_type": "code",
   "execution_count": 12,
   "id": "0bafdaae-6f95-4d66-bbe7-7e3bb7a34e76",
   "metadata": {},
   "outputs": [
    {
     "name": "stdout",
     "output_type": "stream",
     "text": [
      "+---+\n",
      "| id|\n",
      "+---+\n",
      "|  3|\n",
      "|  4|\n",
      "|  1|\n",
      "|  2|\n",
      "|  0|\n",
      "+---+\n",
      "\n"
     ]
    }
   ],
   "source": [
    "spark.sql(\"select * from testing_delta\").show()"
   ]
  },
  {
   "cell_type": "code",
   "execution_count": 13,
   "id": "c6bab2a5-bee5-4653-a68d-eb765aa62779",
   "metadata": {},
   "outputs": [],
   "source": [
    "spark.stop()"
   ]
  },
  {
   "cell_type": "code",
   "execution_count": null,
   "id": "f2533462-089e-4362-b8ed-e7aca6b3f24d",
   "metadata": {},
   "outputs": [],
   "source": []
  }
 ],
 "metadata": {
  "kernelspec": {
   "display_name": "Python 3 (ipykernel)",
   "language": "python",
   "name": "python3"
  },
  "language_info": {
   "codemirror_mode": {
    "name": "ipython",
    "version": 3
   },
   "file_extension": ".py",
   "mimetype": "text/x-python",
   "name": "python",
   "nbconvert_exporter": "python",
   "pygments_lexer": "ipython3",
   "version": "3.12.3"
  }
 },
 "nbformat": 4,
 "nbformat_minor": 5
}
