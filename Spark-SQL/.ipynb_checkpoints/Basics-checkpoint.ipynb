{
 "cells": [
  {
   "cell_type": "code",
   "execution_count": 1,
   "id": "95a41b90-b4e7-4f2e-b382-124d45ce07a3",
   "metadata": {},
   "outputs": [
    {
     "name": "stderr",
     "output_type": "stream",
     "text": [
      "WARNING: Using incubator modules: jdk.incubator.vector\n",
      "Using Spark's default log4j profile: org/apache/spark/log4j2-defaults.properties\n",
      "25/07/17 18:54:18 WARN Utils: Your hostname, spark-master, resolves to a loopback address: 127.0.1.1; using 10.168.136.115 instead (on interface ens3)\n",
      "25/07/17 18:54:18 WARN Utils: Set SPARK_LOCAL_IP if you need to bind to another address\n",
      "Using Spark's default log4j profile: org/apache/spark/log4j2-defaults.properties\n",
      "Setting default log level to \"WARN\".\n",
      "To adjust logging level use sc.setLogLevel(newLevel). For SparkR, use setLogLevel(newLevel).\n",
      "25/07/17 18:54:18 WARN NativeCodeLoader: Unable to load native-hadoop library for your platform... using builtin-java classes where applicable\n"
     ]
    }
   ],
   "source": [
    "from pyspark.sql import SparkSession\n",
    "\n",
    "spark = SparkSession \\\n",
    "    .builder \\\n",
    "    .appName(\"Python Spark SQL basic example\") \\\n",
    "    .config(\"spark.some.config.option\", \"some-value\") \\\n",
    "    .getOrCreate()"
   ]
  },
  {
   "cell_type": "code",
   "execution_count": 3,
   "id": "c22b2cd0-5309-422b-a948-2a878baf24d8",
   "metadata": {},
   "outputs": [],
   "source": [
    "df = spark.read.csv(\"file:///data/Cabs.csv\",header=True)"
   ]
  },
  {
   "cell_type": "code",
   "execution_count": 4,
   "id": "fd29ace1-4bcd-4cca-999c-7e24516fefcb",
   "metadata": {},
   "outputs": [
    {
     "data": {
      "text/plain": [
       "['CabNumber',\n",
       " 'VehicleLicenseNumber',\n",
       " 'Name',\n",
       " 'LicenseType',\n",
       " 'Active',\n",
       " 'PermitLicenseNumber',\n",
       " 'VehicleVinNumber',\n",
       " 'WheelchairAccessible',\n",
       " 'VehicleYear',\n",
       " 'VehicleType',\n",
       " 'TelephoneNumber',\n",
       " 'Website',\n",
       " 'Address',\n",
       " 'LastDateUpdated']"
      ]
     },
     "execution_count": 4,
     "metadata": {},
     "output_type": "execute_result"
    }
   ],
   "source": [
    "df.columns"
   ]
  },
  {
   "cell_type": "code",
   "execution_count": 5,
   "id": "6771d284-f542-496a-beba-b7c80adf8040",
   "metadata": {},
   "outputs": [
    {
     "name": "stdout",
     "output_type": "stream",
     "text": [
      "root\n",
      " |-- CabNumber: string (nullable = true)\n",
      " |-- VehicleLicenseNumber: string (nullable = true)\n",
      " |-- Name: string (nullable = true)\n",
      " |-- LicenseType: string (nullable = true)\n",
      " |-- Active: string (nullable = true)\n",
      " |-- PermitLicenseNumber: string (nullable = true)\n",
      " |-- VehicleVinNumber: string (nullable = true)\n",
      " |-- WheelchairAccessible: string (nullable = true)\n",
      " |-- VehicleYear: string (nullable = true)\n",
      " |-- VehicleType: string (nullable = true)\n",
      " |-- TelephoneNumber: string (nullable = true)\n",
      " |-- Website: string (nullable = true)\n",
      " |-- Address: string (nullable = true)\n",
      " |-- LastDateUpdated: string (nullable = true)\n",
      "\n"
     ]
    }
   ],
   "source": [
    "df.printSchema()"
   ]
  },
  {
   "cell_type": "code",
   "execution_count": 6,
   "id": "c37bbdd9-7f0e-49a1-9879-493b3d692c0c",
   "metadata": {},
   "outputs": [
    {
     "data": {
      "text/plain": [
       "2638"
      ]
     },
     "execution_count": 6,
     "metadata": {},
     "output_type": "execute_result"
    }
   ],
   "source": [
    "df.select('CabNumber').filter('VehicleYear > 2016').count()"
   ]
  },
  {
   "cell_type": "code",
   "execution_count": 8,
   "id": "7a4289eb-b7e6-4196-9c70-38251d902495",
   "metadata": {},
   "outputs": [
    {
     "name": "stdout",
     "output_type": "stream",
     "text": [
      "+-----------+-----+\n",
      "|VehicleType|count|\n",
      "+-----------+-----+\n",
      "|        HYB|   53|\n",
      "|       NULL| 8879|\n",
      "|        STR|   15|\n",
      "|        WAV|   23|\n",
      "+-----------+-----+\n",
      "\n"
     ]
    }
   ],
   "source": [
    "df.groupby('VehicleType').count().show()"
   ]
  },
  {
   "cell_type": "code",
   "execution_count": 9,
   "id": "1439d8ec-e39d-4be3-b7d9-2be6388ba7d1",
   "metadata": {},
   "outputs": [],
   "source": [
    "df.createTempView(\"cabs\")"
   ]
  },
  {
   "cell_type": "code",
   "execution_count": 10,
   "id": "60d6f20e-9f3a-4396-944a-2bacc77d09ad",
   "metadata": {},
   "outputs": [
    {
     "name": "stdout",
     "output_type": "stream",
     "text": [
      "+-----------+--------+\n",
      "|VehicleType|count(1)|\n",
      "+-----------+--------+\n",
      "|        HYB|      53|\n",
      "|       NULL|    8879|\n",
      "|        STR|      15|\n",
      "|        WAV|      23|\n",
      "+-----------+--------+\n",
      "\n"
     ]
    }
   ],
   "source": [
    "spark.sql(\"select VehicleType,count(*) from cabs group by VehicleType\").show()"
   ]
  },
  {
   "cell_type": "code",
   "execution_count": null,
   "id": "0cb4ced1-654d-4881-b54b-a0962e1d2b98",
   "metadata": {},
   "outputs": [],
   "source": []
  }
 ],
 "metadata": {
  "kernelspec": {
   "display_name": "Python 3 (ipykernel)",
   "language": "python",
   "name": "python3"
  },
  "language_info": {
   "codemirror_mode": {
    "name": "ipython",
    "version": 3
   },
   "file_extension": ".py",
   "mimetype": "text/x-python",
   "name": "python",
   "nbconvert_exporter": "python",
   "pygments_lexer": "ipython3",
   "version": "3.12.3"
  }
 },
 "nbformat": 4,
 "nbformat_minor": 5
}
