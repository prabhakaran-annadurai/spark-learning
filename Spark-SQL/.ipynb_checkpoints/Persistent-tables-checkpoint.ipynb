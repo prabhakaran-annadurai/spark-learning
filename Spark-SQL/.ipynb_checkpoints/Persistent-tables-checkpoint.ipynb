{
 "cells": [
  {
   "cell_type": "code",
   "execution_count": 1,
   "id": "66d82a73-74c4-4981-a2e6-4752abd08aad",
   "metadata": {},
   "outputs": [
    {
     "name": "stderr",
     "output_type": "stream",
     "text": [
      "WARNING: Using incubator modules: jdk.incubator.vector\n",
      "Using Spark's default log4j profile: org/apache/spark/log4j2-defaults.properties\n",
      "25/07/17 19:28:30 WARN Utils: Your hostname, spark-master, resolves to a loopback address: 127.0.1.1; using 10.168.136.115 instead (on interface ens3)\n",
      "25/07/17 19:28:30 WARN Utils: Set SPARK_LOCAL_IP if you need to bind to another address\n",
      "Using Spark's default log4j profile: org/apache/spark/log4j2-defaults.properties\n",
      "Setting default log level to \"WARN\".\n",
      "To adjust logging level use sc.setLogLevel(newLevel). For SparkR, use setLogLevel(newLevel).\n",
      "25/07/17 19:28:30 WARN NativeCodeLoader: Unable to load native-hadoop library for your platform... using builtin-java classes where applicable\n"
     ]
    }
   ],
   "source": [
    "from pyspark.sql import SparkSession\n",
    "\n",
    "spark = SparkSession \\\n",
    "    .builder \\\n",
    "    .appName(\"Python Spark Table persistent example\") \\\n",
    "    .config(\"spark.some.config.option\", \"some-value\") \\\n",
    "    .getOrCreate()"
   ]
  },
  {
   "cell_type": "markdown",
   "id": "22adcbf2-1c61-4f51-97f8-419bfb8c92b1",
   "metadata": {},
   "source": [
    "1. Spark will create default local hive metastore\n",
    "2. df.saveAsTable - materialize the contents of dataframe and create a pointer to the data in Hive metastore\n",
    "3. Two cases:\n",
    "   - When custom path is given - Data stored in that path and remains there even table is deleted from metastore\n",
    "   - When customm path is not given - Data stored in default warehouse directory and data gets deleted when table is deleted"
   ]
  },
  {
   "cell_type": "code",
   "execution_count": 11,
   "id": "ac803b0f-6ca7-4bc3-abdb-1861e984adaa",
   "metadata": {},
   "outputs": [],
   "source": [
    "df = spark.read.csv(\"file:///data/Drivers.csv\", header=True)"
   ]
  },
  {
   "cell_type": "code",
   "execution_count": 13,
   "id": "05861263-5542-40fc-be89-eb0a71f436ab",
   "metadata": {},
   "outputs": [],
   "source": [
    "df.write.saveAsTable(\"test\",mode=\"overwrite\")"
   ]
  },
  {
   "cell_type": "code",
   "execution_count": 15,
   "id": "b111fd76-4eb6-4cd2-9bb1-a3795578abb8",
   "metadata": {},
   "outputs": [
    {
     "name": "stdout",
     "output_type": "stream",
     "text": [
      "+-------------------+------------+--------------------+--------------+---------------+\n",
      "|DriverLicenseNumber|        Name|                Type|ExpirationDate|LastDateUpdated|\n",
      "+-------------------+------------+--------------------+--------------+---------------+\n",
      "|            5232778|  HASAN,MD,Z|MEDALLION TAXI DR...|    07/25/2022|     04/22/2020|\n",
      "|            5922667|HASAN,NAIMUL|MEDALLION TAXI DR...|    10/15/2021|     04/22/2020|\n",
      "|            5316279| HASAN,RAKIB|MEDALLION TAXI DR...|    12/22/2020|     04/22/2020|\n",
      "+-------------------+------------+--------------------+--------------+---------------+\n",
      "only showing top 3 rows\n"
     ]
    }
   ],
   "source": [
    "spark.sql(\"select * from test\").show(3)"
   ]
  },
  {
   "cell_type": "code",
   "execution_count": 17,
   "id": "4996b48f-2170-4cad-b5d3-900255b5cb1b",
   "metadata": {},
   "outputs": [
    {
     "name": "stdout",
     "output_type": "stream",
     "text": [
      "+--------------------+--------------------+-------+\n",
      "|            col_name|           data_type|comment|\n",
      "+--------------------+--------------------+-------+\n",
      "| DriverLicenseNumber|              string|   NULL|\n",
      "|                Name|              string|   NULL|\n",
      "|                Type|              string|   NULL|\n",
      "|      ExpirationDate|              string|   NULL|\n",
      "|     LastDateUpdated|              string|   NULL|\n",
      "|                    |                    |       |\n",
      "|# Detailed Table ...|                    |       |\n",
      "|             Catalog|       spark_catalog|       |\n",
      "|            Database|             default|       |\n",
      "|               Table|                test|       |\n",
      "|        Created Time|Thu Jul 17 19:38:...|       |\n",
      "|         Last Access|             UNKNOWN|       |\n",
      "|          Created By|         Spark 4.0.0|       |\n",
      "|                Type|             MANAGED|       |\n",
      "|            Provider|             parquet|       |\n",
      "|            Location|file:/learning/Sp...|       |\n",
      "+--------------------+--------------------+-------+\n",
      "\n"
     ]
    }
   ],
   "source": [
    "spark.sql(\"Describe extended test\").show()"
   ]
  },
  {
   "cell_type": "markdown",
   "id": "b7e5163b-431a-4c3d-84e8-94f91b0e5262",
   "metadata": {},
   "source": [
    "ubuntu@spark-master:/learning/Spark-SQL/artifacts$ cd ../spark-warehouse/\n",
    "\n",
    "ubuntu@spark-master:/learning/Spark-SQL/spark-warehouse$ ls\n",
    "\n",
    "test\n",
    "\n",
    "ubuntu@spark-master:/learning/Spark-SQL/spark-warehouse$ "
   ]
  },
  {
   "cell_type": "code",
   "execution_count": 20,
   "id": "a6f8e3cf-edc2-4286-bf2f-284c58c331e9",
   "metadata": {},
   "outputs": [
    {
     "data": {
      "text/plain": [
       "DataFrame[]"
      ]
     },
     "execution_count": 20,
     "metadata": {},
     "output_type": "execute_result"
    }
   ],
   "source": [
    "spark.sql(\"drop table test\")"
   ]
  },
  {
   "cell_type": "code",
   "execution_count": 21,
   "id": "fe344cbc-0eb3-4dc3-a969-89707793f034",
   "metadata": {},
   "outputs": [],
   "source": [
    "# Folder test is deleted from spark-warehouse"
   ]
  },
  {
   "cell_type": "markdown",
   "id": "f678f959-d998-4f68-8fbc-a69a7ae99891",
   "metadata": {},
   "source": [
    "### Partitioning"
   ]
  },
  {
   "cell_type": "code",
   "execution_count": 24,
   "id": "d6f7a626-c84e-4cac-bf31-7894cbe908f4",
   "metadata": {},
   "outputs": [],
   "source": [
    "df = spark.read.csv(\"file:///data/Cabs.csv\", header=True)"
   ]
  },
  {
   "cell_type": "code",
   "execution_count": 26,
   "id": "8dcb473b-be26-4a30-8b6d-9025443f20c1",
   "metadata": {},
   "outputs": [],
   "source": [
    "df.write.partitionBy('VehicleYear').saveAsTable(\"test_partition\",mode=\"overwrite\")"
   ]
  },
  {
   "cell_type": "raw",
   "id": "92ec024c-4e70-42af-89df-399355d69cfc",
   "metadata": {},
   "source": [
    "ubuntu@spark-master:/learning/Spark-SQL/spark-warehouse/test_partition$ ls\n",
    "'VehicleYear=1949'  'VehicleYear=1960'  'VehicleYear=2004'  'VehicleYear=2007'  'VehicleYear=2010'  'VehicleYear=2013'  'VehicleYear=2016'  'VehicleYear=2019'\n",
    "'VehicleYear=1951'  'VehicleYear=2002'  'VehicleYear=2005'  'VehicleYear=2008'  'VehicleYear=2011'  'VehicleYear=2014'  'VehicleYear=2017'  'VehicleYear=2020'\n",
    "'VehicleYear=1955'  'VehicleYear=2003'  'VehicleYear=2006'  'VehicleYear=2009'  'VehicleYear=2012'  'VehicleYear=2015'  'VehicleYear=2018'   _SUCCESS\n",
    "ubuntu@spark-master:/learning/Spark-SQL/spark-warehouse/test_partition$ \n",
    "\n"
   ]
  },
  {
   "cell_type": "code",
   "execution_count": 27,
   "id": "da075bf9-95aa-451f-a691-083f6fd66df8",
   "metadata": {},
   "outputs": [],
   "source": [
    "# Efficient reads when where clause often contains a particular column\n",
    "# Too many files created"
   ]
  },
  {
   "cell_type": "markdown",
   "id": "23bf4aec-ab44-40e2-b53a-7bca13006400",
   "metadata": {},
   "source": [
    "### Bucketing"
   ]
  },
  {
   "cell_type": "code",
   "execution_count": 28,
   "id": "a5d3746e-7b03-4cf2-a971-b01ca8ad1bc0",
   "metadata": {},
   "outputs": [],
   "source": [
    "df = spark.read.csv(\"file:///data/Cabs.csv\", header=True)"
   ]
  },
  {
   "cell_type": "code",
   "execution_count": 32,
   "id": "45a0c818-348a-49b5-bc14-8b2656f4cd7e",
   "metadata": {},
   "outputs": [],
   "source": [
    "df.write.bucketBy(5,'VehicleYear').sortBy('VehicleYear').saveAsTable(\"test_bucket\",mode=\"overwrite\")"
   ]
  },
  {
   "cell_type": "code",
   "execution_count": null,
   "id": "bdacd340-7ca5-4fc4-a742-f39b44018a5b",
   "metadata": {},
   "outputs": [],
   "source": [
    "# Data hashed evenly into 5 different files\n",
    "# Better for high cardinality - data first ordered and bucketted -> improves performance during joins, aggregations, sampling"
   ]
  }
 ],
 "metadata": {
  "kernelspec": {
   "display_name": "Python 3 (ipykernel)",
   "language": "python",
   "name": "python3"
  },
  "language_info": {
   "codemirror_mode": {
    "name": "ipython",
    "version": 3
   },
   "file_extension": ".py",
   "mimetype": "text/x-python",
   "name": "python",
   "nbconvert_exporter": "python",
   "pygments_lexer": "ipython3",
   "version": "3.12.3"
  }
 },
 "nbformat": 4,
 "nbformat_minor": 5
}
