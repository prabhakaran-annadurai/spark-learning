{
 "cells": [
  {
   "cell_type": "code",
   "execution_count": 1,
   "id": "7518664f-1c75-44b7-af69-e7145b50dc78",
   "metadata": {},
   "outputs": [
    {
     "name": "stderr",
     "output_type": "stream",
     "text": [
      "WARNING: Using incubator modules: jdk.incubator.vector\n",
      "Using Spark's default log4j profile: org/apache/spark/log4j2-defaults.properties\n",
      "25/07/21 18:14:33 WARN Utils: Your hostname, spark-master, resolves to a loopback address: 127.0.1.1; using 10.168.136.115 instead (on interface ens3)\n",
      "25/07/21 18:14:33 WARN Utils: Set SPARK_LOCAL_IP if you need to bind to another address\n",
      "Using Spark's default log4j profile: org/apache/spark/log4j2-defaults.properties\n",
      "Setting default log level to \"WARN\".\n",
      "To adjust logging level use sc.setLogLevel(newLevel). For SparkR, use setLogLevel(newLevel).\n",
      "25/07/21 18:14:33 WARN NativeCodeLoader: Unable to load native-hadoop library for your platform... using builtin-java classes where applicable\n"
     ]
    }
   ],
   "source": [
    "from pyspark.sql import SparkSession\n",
    "from pyspark.sql import functions as sf\n",
    "from pyspark.sql.types import StructType, StringType, TimestampType, IntegerType\n",
    "from datetime import datetime\n",
    "from pyspark.sql.functions import from_json, col, expr\n",
    "\n",
    "spark = SparkSession \\\n",
    "    .builder \\\n",
    "    .appName(\"Python Spark Streaming outer join example\") \\\n",
    "    .config(\"spark.some.config.option\", \"some-value\") \\\n",
    "    .getOrCreate()"
   ]
  },
  {
   "cell_type": "code",
   "execution_count": 2,
   "id": "1139846c-b661-4c25-bd6b-026abaabf0d6",
   "metadata": {},
   "outputs": [],
   "source": [
    "schema1 = StructType() \\\n",
    "    .add(\"id\", StringType()) \\\n",
    "    .add(\"value1\", StringType()) \\\n",
    "    .add(\"event_time\", TimestampType())\n",
    "\n",
    "schema2 = StructType() \\\n",
    "    .add(\"id\", StringType()) \\\n",
    "    .add(\"value2\", StringType()) \\\n",
    "    .add(\"event_time\", TimestampType())"
   ]
  },
  {
   "cell_type": "code",
   "execution_count": 3,
   "id": "0db727e7-aed2-4fcd-afde-58c586ffc1c4",
   "metadata": {},
   "outputs": [
    {
     "name": "stderr",
     "output_type": "stream",
     "text": [
      "25/07/21 18:14:37 WARN TextSocketSourceProvider: The socket source should not be used for production applications! It does not support recovery.\n"
     ]
    }
   ],
   "source": [
    "# Stream 1: listens on port 9999\n",
    "stream1 = spark.readStream.format(\"socket\") \\\n",
    "    .option(\"host\", \"localhost\") \\\n",
    "    .option(\"port\", 9999) \\\n",
    "    .load()\n",
    "df1 = stream1.select(from_json(col(\"value\"), schema1).alias(\"data1\")) \\\n",
    "    .selectExpr(\"data1.id\", \"data1.value1\", \"data1.event_time\") \\\n",
    "    .withWatermark(\"event_time\", \"10 minutes\").alias(\"df1\")"
   ]
  },
  {
   "cell_type": "code",
   "execution_count": 4,
   "id": "2f3178e0-f796-4075-af15-cecf4f48afc5",
   "metadata": {},
   "outputs": [
    {
     "name": "stderr",
     "output_type": "stream",
     "text": [
      "25/07/21 18:14:38 WARN TextSocketSourceProvider: The socket source should not be used for production applications! It does not support recovery.\n"
     ]
    }
   ],
   "source": [
    "stream2 = spark.readStream.format(\"socket\") \\\n",
    "    .option(\"host\", \"localhost\") \\\n",
    "    .option(\"port\", 9998) \\\n",
    "    .load()\n",
    "\n",
    "df2 = stream2.select(from_json(col(\"value\"), schema2).alias(\"data2\")) \\\n",
    "    .selectExpr(\"data2.id\", \"data2.value2\", \"data2.event_time\") \\\n",
    "    .withWatermark(\"event_time\", \"10 minutes\").alias(\"df2\")"
   ]
  },
  {
   "cell_type": "code",
   "execution_count": 5,
   "id": "d36414ca-a3c3-4f40-bf57-7bdbf28f7a31",
   "metadata": {},
   "outputs": [],
   "source": [
    "joined = df1.join(\n",
    "    df2,\n",
    "    expr(\"\"\"\n",
    "        df1.id = df2.id AND\n",
    "        df1.event_time BETWEEN df2.event_time AND df2.event_time + interval 5 minutes\n",
    "    \"\"\"),\n",
    "    \"leftOuter\"\n",
    ")"
   ]
  },
  {
   "cell_type": "code",
   "execution_count": 6,
   "id": "0ec04fca-d00c-4efd-afa6-0e4741cc71b0",
   "metadata": {},
   "outputs": [
    {
     "name": "stderr",
     "output_type": "stream",
     "text": [
      "25/07/21 18:14:53 WARN ResolveWriteToStream: Temporary checkpoint location created which is deleted normally when the query didn't fail: /tmp/temporary-90dc2abd-7c38-4019-8b87-5e4a6f5886f6. If it's required to delete it under any circumstances, please set spark.sql.streaming.forceDeleteTempCheckpointLocation to true. Important to know deleting temp checkpoint folder is best effort.\n",
      "25/07/21 18:14:53 WARN ResolveWriteToStream: spark.sql.adaptive.enabled is not supported in streaming DataFrames/Datasets and will be disabled.\n",
      "                                                                                "
     ]
    },
    {
     "name": "stdout",
     "output_type": "stream",
     "text": [
      "-------------------------------------------\n",
      "Batch: 0\n",
      "-------------------------------------------\n",
      "+---+------+----------+---+------+----------+\n",
      "| id|value1|event_time| id|value2|event_time|\n",
      "+---+------+----------+---+------+----------+\n",
      "+---+------+----------+---+------+----------+\n",
      "\n"
     ]
    },
    {
     "name": "stderr",
     "output_type": "stream",
     "text": [
      "                                                                                "
     ]
    },
    {
     "name": "stdout",
     "output_type": "stream",
     "text": [
      "-------------------------------------------\n",
      "Batch: 1\n",
      "-------------------------------------------\n",
      "+---+------+----------+---+------+----------+\n",
      "| id|value1|event_time| id|value2|event_time|\n",
      "+---+------+----------+---+------+----------+\n",
      "+---+------+----------+---+------+----------+\n",
      "\n"
     ]
    },
    {
     "name": "stderr",
     "output_type": "stream",
     "text": [
      "                                                                                "
     ]
    },
    {
     "name": "stdout",
     "output_type": "stream",
     "text": [
      "-------------------------------------------\n",
      "Batch: 2\n",
      "-------------------------------------------\n",
      "+---+------+----------+---+------+----------+\n",
      "| id|value1|event_time| id|value2|event_time|\n",
      "+---+------+----------+---+------+----------+\n",
      "+---+------+----------+---+------+----------+\n",
      "\n"
     ]
    },
    {
     "name": "stderr",
     "output_type": "stream",
     "text": [
      "                                                                                "
     ]
    },
    {
     "name": "stdout",
     "output_type": "stream",
     "text": [
      "-------------------------------------------\n",
      "Batch: 3\n",
      "-------------------------------------------\n",
      "+---+------+----------+---+------+----------+\n",
      "| id|value1|event_time| id|value2|event_time|\n",
      "+---+------+----------+---+------+----------+\n",
      "+---+------+----------+---+------+----------+\n",
      "\n"
     ]
    },
    {
     "name": "stderr",
     "output_type": "stream",
     "text": [
      "                                                                                "
     ]
    },
    {
     "name": "stdout",
     "output_type": "stream",
     "text": [
      "-------------------------------------------\n",
      "Batch: 4\n",
      "-------------------------------------------\n",
      "+---+------+----------+---+------+----------+\n",
      "| id|value1|event_time| id|value2|event_time|\n",
      "+---+------+----------+---+------+----------+\n",
      "+---+------+----------+---+------+----------+\n",
      "\n"
     ]
    },
    {
     "name": "stderr",
     "output_type": "stream",
     "text": [
      "                                                                                "
     ]
    },
    {
     "name": "stdout",
     "output_type": "stream",
     "text": [
      "-------------------------------------------\n",
      "Batch: 5\n",
      "-------------------------------------------\n",
      "+---+------+-------------------+---+----------+-------------------+\n",
      "| id|value1|         event_time| id|    value2|         event_time|\n",
      "+---+------+-------------------+---+----------+-------------------+\n",
      "|123| click|2025-07-21 10:00:00|123|impression|2025-07-21 09:58:00|\n",
      "+---+------+-------------------+---+----------+-------------------+\n",
      "\n"
     ]
    },
    {
     "name": "stderr",
     "output_type": "stream",
     "text": [
      "                                                                                "
     ]
    },
    {
     "name": "stdout",
     "output_type": "stream",
     "text": [
      "-------------------------------------------\n",
      "Batch: 6\n",
      "-------------------------------------------\n",
      "+---+------+----------+---+------+----------+\n",
      "| id|value1|event_time| id|value2|event_time|\n",
      "+---+------+----------+---+------+----------+\n",
      "+---+------+----------+---+------+----------+\n",
      "\n"
     ]
    },
    {
     "name": "stderr",
     "output_type": "stream",
     "text": [
      "                                                                                "
     ]
    },
    {
     "name": "stdout",
     "output_type": "stream",
     "text": [
      "-------------------------------------------\n",
      "Batch: 7\n",
      "-------------------------------------------\n",
      "+---+------+----------+---+------+----------+\n",
      "| id|value1|event_time| id|value2|event_time|\n",
      "+---+------+----------+---+------+----------+\n",
      "+---+------+----------+---+------+----------+\n",
      "\n"
     ]
    },
    {
     "name": "stderr",
     "output_type": "stream",
     "text": [
      "                                                                                "
     ]
    },
    {
     "name": "stdout",
     "output_type": "stream",
     "text": [
      "-------------------------------------------\n",
      "Batch: 8\n",
      "-------------------------------------------\n",
      "+---+------+----------+---+------+----------+\n",
      "| id|value1|event_time| id|value2|event_time|\n",
      "+---+------+----------+---+------+----------+\n",
      "+---+------+----------+---+------+----------+\n",
      "\n"
     ]
    },
    {
     "name": "stderr",
     "output_type": "stream",
     "text": [
      "                                                                                "
     ]
    },
    {
     "name": "stdout",
     "output_type": "stream",
     "text": [
      "-------------------------------------------\n",
      "Batch: 9\n",
      "-------------------------------------------\n",
      "+---+------+----------+---+------+----------+\n",
      "| id|value1|event_time| id|value2|event_time|\n",
      "+---+------+----------+---+------+----------+\n",
      "+---+------+----------+---+------+----------+\n",
      "\n"
     ]
    },
    {
     "name": "stderr",
     "output_type": "stream",
     "text": [
      "                                                                                "
     ]
    },
    {
     "name": "stdout",
     "output_type": "stream",
     "text": [
      "-------------------------------------------\n",
      "Batch: 10\n",
      "-------------------------------------------\n",
      "+---+------+-------------------+---+----------+-------------------+\n",
      "| id|value1|         event_time| id|    value2|         event_time|\n",
      "+---+------+-------------------+---+----------+-------------------+\n",
      "|126| click|2025-07-21 11:00:00|126|impression|2025-07-21 10:58:00|\n",
      "+---+------+-------------------+---+----------+-------------------+\n",
      "\n"
     ]
    },
    {
     "name": "stderr",
     "output_type": "stream",
     "text": [
      "                                                                                "
     ]
    },
    {
     "name": "stdout",
     "output_type": "stream",
     "text": [
      "-------------------------------------------\n",
      "Batch: 11\n",
      "-------------------------------------------\n",
      "+---+------+----------+---+------+----------+\n",
      "| id|value1|event_time| id|value2|event_time|\n",
      "+---+------+----------+---+------+----------+\n",
      "+---+------+----------+---+------+----------+\n",
      "\n"
     ]
    },
    {
     "name": "stderr",
     "output_type": "stream",
     "text": [
      "                                                                                "
     ]
    },
    {
     "name": "stdout",
     "output_type": "stream",
     "text": [
      "-------------------------------------------\n",
      "Batch: 12\n",
      "-------------------------------------------\n",
      "+---+------+----------+---+------+----------+\n",
      "| id|value1|event_time| id|value2|event_time|\n",
      "+---+------+----------+---+------+----------+\n",
      "+---+------+----------+---+------+----------+\n",
      "\n"
     ]
    },
    {
     "name": "stderr",
     "output_type": "stream",
     "text": [
      "                                                                                "
     ]
    },
    {
     "name": "stdout",
     "output_type": "stream",
     "text": [
      "-------------------------------------------\n",
      "Batch: 13\n",
      "-------------------------------------------\n",
      "+---+------+----------+---+------+----------+\n",
      "| id|value1|event_time| id|value2|event_time|\n",
      "+---+------+----------+---+------+----------+\n",
      "+---+------+----------+---+------+----------+\n",
      "\n"
     ]
    },
    {
     "name": "stderr",
     "output_type": "stream",
     "text": [
      "                                                                                "
     ]
    },
    {
     "name": "stdout",
     "output_type": "stream",
     "text": [
      "-------------------------------------------\n",
      "Batch: 14\n",
      "-------------------------------------------\n",
      "+---+------+-------------------+---+----------+-------------------+\n",
      "| id|value1|         event_time| id|    value2|         event_time|\n",
      "+---+------+-------------------+---+----------+-------------------+\n",
      "|128| click|2025-07-21 11:30:00|128|impression|2025-07-21 11:28:00|\n",
      "+---+------+-------------------+---+----------+-------------------+\n",
      "\n"
     ]
    },
    {
     "name": "stderr",
     "output_type": "stream",
     "text": [
      "                                                                                "
     ]
    },
    {
     "name": "stdout",
     "output_type": "stream",
     "text": [
      "-------------------------------------------\n",
      "Batch: 15\n",
      "-------------------------------------------\n",
      "+---+------+-------------------+----+------+----------+\n",
      "| id|value1|         event_time|  id|value2|event_time|\n",
      "+---+------+-------------------+----+------+----------+\n",
      "|127| click|2025-07-21 11:10:00|NULL|  NULL|      NULL|\n",
      "+---+------+-------------------+----+------+----------+\n",
      "\n"
     ]
    }
   ],
   "source": [
    "query = joined.writeStream \\\n",
    "    .format(\"console\") \\\n",
    "    .outputMode(\"append\") \\\n",
    "    .start()"
   ]
  },
  {
   "cell_type": "code",
   "execution_count": 8,
   "id": "a0b58f3d-d119-4c2a-8360-4c51beb9f8cb",
   "metadata": {},
   "outputs": [
    {
     "name": "stderr",
     "output_type": "stream",
     "text": [
      "25/07/21 18:29:06 WARN TextSocketMicroBatchStream: Stream closed by localhost:9999\n",
      "25/07/21 18:29:07 WARN TextSocketMicroBatchStream: Stream closed by localhost:9998\n"
     ]
    }
   ],
   "source": [
    "spark.stop()"
   ]
  },
  {
   "cell_type": "code",
   "execution_count": null,
   "id": "eaf888cc-dce7-4b23-9c40-dda37c4e1964",
   "metadata": {},
   "outputs": [],
   "source": []
  }
 ],
 "metadata": {
  "kernelspec": {
   "display_name": "Python 3 (ipykernel)",
   "language": "python",
   "name": "python3"
  },
  "language_info": {
   "codemirror_mode": {
    "name": "ipython",
    "version": 3
   },
   "file_extension": ".py",
   "mimetype": "text/x-python",
   "name": "python",
   "nbconvert_exporter": "python",
   "pygments_lexer": "ipython3",
   "version": "3.12.3"
  }
 },
 "nbformat": 4,
 "nbformat_minor": 5
}
