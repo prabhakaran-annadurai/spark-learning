{
 "cells": [
  {
   "cell_type": "code",
   "execution_count": 1,
   "id": "e48d01b1-10e7-41ea-a401-657e6e919e08",
   "metadata": {},
   "outputs": [
    {
     "name": "stderr",
     "output_type": "stream",
     "text": [
      "WARNING: Using incubator modules: jdk.incubator.vector\n",
      "Using Spark's default log4j profile: org/apache/spark/log4j2-defaults.properties\n",
      "25/07/16 23:17:49 WARN Utils: Your hostname, spark-master, resolves to a loopback address: 127.0.1.1; using 10.168.136.115 instead (on interface ens3)\n",
      "25/07/16 23:17:49 WARN Utils: Set SPARK_LOCAL_IP if you need to bind to another address\n",
      "Using Spark's default log4j profile: org/apache/spark/log4j2-defaults.properties\n",
      "Setting default log level to \"WARN\".\n",
      "To adjust logging level use sc.setLogLevel(newLevel). For SparkR, use setLogLevel(newLevel).\n",
      "25/07/16 23:17:49 WARN NativeCodeLoader: Unable to load native-hadoop library for your platform... using builtin-java classes where applicable\n",
      "25/07/16 23:17:50 WARN Utils: Service 'SparkUI' could not bind on port 4040. Attempting port 4041.\n"
     ]
    }
   ],
   "source": [
    "from pyspark.sql import SparkSession\n",
    "\n",
    "spark = SparkSession.builder \\\n",
    "    .appName(\"My Notebook Spark App\") \\\n",
    "    .master(\"local[*]\") \\\n",
    "    .getOrCreate()"
   ]
  },
  {
   "cell_type": "code",
   "execution_count": 2,
   "id": "730cb95b-a71d-4201-a696-c9aed4f0c300",
   "metadata": {},
   "outputs": [],
   "source": [
    "sc = spark.sparkContext"
   ]
  },
  {
   "cell_type": "markdown",
   "id": "7e8b16ca-e4cf-4c4c-a2b8-8be09eb12ad3",
   "metadata": {},
   "source": [
    "#### Reduce\n",
    "1. Binary operator"
   ]
  },
  {
   "cell_type": "code",
   "execution_count": 6,
   "id": "0a3952df-64f9-4989-a89d-805a611fab7a",
   "metadata": {},
   "outputs": [
    {
     "name": "stdout",
     "output_type": "stream",
     "text": [
      "81\n"
     ]
    },
    {
     "name": "stderr",
     "output_type": "stream",
     "text": [
      "                                                                                "
     ]
    }
   ],
   "source": [
    "rdd = sc.parallelize([1,2,2,34,42])\n",
    "total = rdd.reduce(lambda x,y: x+y)\n",
    "print(total)"
   ]
  },
  {
   "cell_type": "markdown",
   "id": "ddf038f7-7d6e-4f13-bd66-22351cda5234",
   "metadata": {},
   "source": [
    "#### colllect\n",
    "#### count\n",
    "#### first\n",
    "#### take\n"
   ]
  },
  {
   "cell_type": "markdown",
   "id": "184d99e5-f0c9-4e1a-b336-05b601c9eaab",
   "metadata": {},
   "source": [
    "#### Foreach, ForEachPartition\n",
    "\n",
    "1. when writing log\n",
    "2. When writing to DB\n",
    "3. Doesn't return any RDD\n",
    "   "
   ]
  },
  {
   "cell_type": "code",
   "execution_count": 8,
   "id": "a910a49d-fd2e-4492-ace5-2263721fcc2d",
   "metadata": {},
   "outputs": [
    {
     "name": "stderr",
     "output_type": "stream",
     "text": [
      "1\n",
      "34\n",
      "42\n",
      "2\n",
      "2\n"
     ]
    }
   ],
   "source": [
    "rdd.foreach(print)"
   ]
  },
  {
   "cell_type": "code",
   "execution_count": 9,
   "id": "8244d253-8a25-4984-ad1d-678a5fe88abf",
   "metadata": {},
   "outputs": [],
   "source": [
    "sc.stop()"
   ]
  },
  {
   "cell_type": "code",
   "execution_count": null,
   "id": "9025e93d-bcd8-4aed-afbe-f060c9857ec2",
   "metadata": {},
   "outputs": [],
   "source": []
  }
 ],
 "metadata": {
  "kernelspec": {
   "display_name": "Python 3 (ipykernel)",
   "language": "python",
   "name": "python3"
  },
  "language_info": {
   "codemirror_mode": {
    "name": "ipython",
    "version": 3
   },
   "file_extension": ".py",
   "mimetype": "text/x-python",
   "name": "python",
   "nbconvert_exporter": "python",
   "pygments_lexer": "ipython3",
   "version": "3.12.3"
  }
 },
 "nbformat": 4,
 "nbformat_minor": 5
}
