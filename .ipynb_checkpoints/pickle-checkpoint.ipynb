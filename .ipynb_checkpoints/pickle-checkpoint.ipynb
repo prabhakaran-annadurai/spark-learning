{
 "cells": [
  {
   "cell_type": "markdown",
   "id": "dc6e4d22",
   "metadata": {},
   "source": [
    "#### Examples for pickle"
   ]
  },
  {
   "cell_type": "markdown",
   "id": "f6108b4f",
   "metadata": {},
   "source": [
    "## Core concepts:\n",
    "\n",
    "1. Bytestream : sequence of binary data. To store in disk, To send through a network\n",
    "\n",
    "2. Serialize : Object --> Byte stream\n",
    "\n",
    "3. Deserialize : Byte stream --> Object\n",
    "\n",
    "4. Pickle: Python library to convert python object to byte stream"
   ]
  },
  {
   "cell_type": "code",
   "execution_count": 7,
   "id": "f2c4de2f",
   "metadata": {},
   "outputs": [
    {
     "data": {
      "text/plain": [
       "dict"
      ]
     },
     "execution_count": 7,
     "metadata": {},
     "output_type": "execute_result"
    }
   ],
   "source": [
    "import pickle\n",
    "\n",
    "data = {\n",
    "    'a' : 123,\n",
    "    'b' : [1,2,3]\n",
    "}\n",
    "type(data)"
   ]
  },
  {
   "cell_type": "code",
   "execution_count": 3,
   "id": "b6a3ff1b",
   "metadata": {},
   "outputs": [],
   "source": [
    "byte_stream = pickle.dumps(data)"
   ]
  },
  {
   "cell_type": "code",
   "execution_count": 4,
   "id": "2f5a2b6d",
   "metadata": {},
   "outputs": [
    {
     "name": "stdout",
     "output_type": "stream",
     "text": [
      "b'\\x80\\x04\\x95\\x19\\x00\\x00\\x00\\x00\\x00\\x00\\x00}\\x94(\\x8c\\x01a\\x94K{\\x8c\\x01b\\x94]\\x94(K\\x01K\\x02K\\x03eu.'\n"
     ]
    }
   ],
   "source": [
    "print(byte_stream)"
   ]
  },
  {
   "cell_type": "code",
   "execution_count": 6,
   "id": "ec76e040",
   "metadata": {},
   "outputs": [
    {
     "name": "stdout",
     "output_type": "stream",
     "text": [
      "{'a': 123, 'b': [1, 2, 3]}\n"
     ]
    }
   ],
   "source": [
    "original = pickle.loads(byte_stream)\n",
    "print(original)"
   ]
  },
  {
   "cell_type": "code",
   "execution_count": null,
   "id": "e2641692",
   "metadata": {},
   "outputs": [],
   "source": []
  }
 ],
 "metadata": {
  "kernelspec": {
   "display_name": "ann-benchmarks",
   "language": "python",
   "name": "python3"
  },
  "language_info": {
   "codemirror_mode": {
    "name": "ipython",
    "version": 3
   },
   "file_extension": ".py",
   "mimetype": "text/x-python",
   "name": "python",
   "nbconvert_exporter": "python",
   "pygments_lexer": "ipython3",
   "version": "3.10.16"
  }
 },
 "nbformat": 4,
 "nbformat_minor": 5
}
